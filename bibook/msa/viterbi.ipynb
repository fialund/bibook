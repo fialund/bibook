{
 "cells": [
  {
   "cell_type": "markdown",
   "metadata": {},
   "source": [
    "# Code describing the Viterbi algorithm"
   ]
  },
  {
   "cell_type": "markdown",
   "metadata": {},
   "source": [
    "We start with defining HMM as a list of states, each state defined as a dictionary. We designed it so that the match states favors a sequence \"ACGT\". We also include a dictionary giving relative positions to the previous state of each type."
   ]
  },
  {
   "cell_type": "code",
   "execution_count": 16,
   "metadata": {},
   "outputs": [],
   "source": [
    "import numpy as np\n",
    "\n",
    "profile_hmm = [\n",
    "    {'type': 'S', 'emission': {},                                       'transition': {'M': 0.9, 'I': 0.05, 'D': 0.05}},    # Start State\n",
    "    {'type': 'I', 'emission': {'A': 0.2, 'C': 0.3, 'G': 0.3, 'T': 0.2}, 'transition': {'M': 0.9, 'I': 0.1}},                # Insert State 1\n",
    "    {'type': 'D', 'emission': {},                                       'transition': {'M': 0.9, 'D': 0.1}},                # Delete State 1\n",
    "    {'type': 'M', 'emission': {'A': 0.6, 'C': 0.1, 'G': 0.2, 'T': 0.1}, 'transition': {'M': 0.9, 'I': 0.05, 'D': 0.05}},    # Match State 1\n",
    "    {'type': 'I', 'emission': {'A': 0.2, 'C': 0.3, 'G': 0.3, 'T': 0.2}, 'transition': {'M': 0.9, 'I': 0.1}},                # Insert State 2\n",
    "    {'type': 'D', 'emission': {},                                       'transition': {'M': 0.9, 'D': 0.1}},                # Delete State 2\n",
    "    {'type': 'M', 'emission': {'A': 0.2, 'C': 0.6, 'G': 0.1, 'T': 0.1}, 'transition': {'M': 0.9, 'I': 0.05, 'D': 0.05}},    # Match State 2\n",
    "    {'type': 'I', 'emission': {'A': 0.2, 'C': 0.3, 'G': 0.3, 'T': 0.2}, 'transition': {'M': 0.9, 'I': 0.1}},                # Insert State 3\n",
    "    {'type': 'D', 'emission': {},                                       'transition': {'M': 0.9, 'D': 0.1}},                # Delete State 3\n",
    "    {'type': 'M', 'emission': {'A': 0.1, 'C': 0.2, 'G': 0.5, 'T': 0.2}, 'transition': {'M': 0.9, 'I': 0.05, 'D': 0.05}},    # Match State 3\n",
    "    {'type': 'I', 'emission': {'A': 0.2, 'C': 0.3, 'G': 0.3, 'T': 0.2}, 'transition': {'M': 0.9, 'D': 0.1}},                # Insert State 4\n",
    "    {'type': 'D', 'emission': {},                                       'transition': {'E': 1.0}},                          # Delete State 4\n",
    "    {'type': 'M', 'emission': {'A': 0.2, 'C': 0.2, 'G': 0.2, 'T': 0.4}, 'transition': {'E': 1.0}},                          # Match State 4\n",
    "    {'type': 'I', 'emission': {'A': 0.2, 'C': 0.3, 'G': 0.3, 'T': 0.2}, 'transition': {'E': 1.0}},                          # Insert State 5\n",
    "    {'type': 'E', 'emission': {},                                       'transition': {}},                                  # End State \n",
    "]\n",
    "\n",
    "prev_rel_states = {  # Relative position to previous state of each type\n",
    "    'S': {},\n",
    "    'M': {'S': -3, 'M':-3, 'I':-2, 'D':-4},\n",
    "    'I': {'S': -1, 'M':-1, 'I':0         },\n",
    "    'D': {'S': -2, 'M':-2,         'D':-3},\n",
    "    'E': {         'M':-2, 'I':-1, 'D':-3},\n",
    "}\n"
   ]
  },
  {
   "cell_type": "markdown",
   "metadata": {},
   "source": [
    "Then we define the dynamic programming algorithm to compute the Viterbi matrix, and backtracking the optimal path (the Viterbi path) through the model."
   ]
  },
  {
   "cell_type": "code",
   "execution_count": 17,
   "metadata": {
    "metadata": {}
   },
   "outputs": [],
   "source": [
    "\n",
    "def viterbi(profile_hmm, sequence):\n",
    "    num_states = len(profile_hmm)\n",
    "    num_bases = len(sequence)\n",
    "\n",
    "    # Initialize the Viterbi and path matrices\n",
    "    viterbi_matrix = np.zeros((num_states, num_bases+2))\n",
    "    viterbi_path = np.zeros((num_states, num_bases+2), dtype=int)\n",
    "\n",
    "    # Initialize the first column of the Viterbi matrix\n",
    "    viterbi_matrix[0, 0] = 1.0\n",
    "\n",
    "    # Fill the Viterbi matrix\n",
    "    for base_idx in range(1, num_bases+2):\n",
    "        for state in range(num_states):\n",
    "            transition_probs = {}\n",
    "            current_type = profile_hmm[state]['type']  # Is this a 'M', I', or 'D' state?\n",
    "            isCurrentSilent = not profile_hmm[state]['emission']\n",
    "            # Get the previous states that can transition to the current state\n",
    "            prev_abs_states = { t : state + rel for t, rel in prev_rel_states[current_type].items() if (state + rel >= 0) and (t == profile_hmm[state+rel]['type']) and (current_type in profile_hmm[state+rel]['transition'])}\n",
    "            # Get the previous base index, it is different for silent states (S, E and D)\n",
    "            prev_abs_base = base_idx if (isCurrentSilent) else base_idx -1  \n",
    "            for prev_type, prev_abs_state in prev_abs_states.items():\n",
    "                transition_prob = profile_hmm[prev_abs_state]['transition'][current_type]\n",
    "                prev_score = viterbi_matrix[prev_abs_state, prev_abs_base]\n",
    "                transition_probs[prev_abs_state] = transition_prob * prev_score\n",
    "            if transition_probs:  # Check if the list is not empty\n",
    "                max_prev_state = max(transition_probs, key=transition_probs.get)\n",
    "                max_transition_prob = transition_probs[max_prev_state]\n",
    "                # print(max_prev_state, max_transition_prob)\n",
    "                if profile_hmm[state]['emission'] and base_idx <= num_bases:\n",
    "                    emission_prob = profile_hmm[state]['emission'].get(sequence[base_idx-1], 0)\n",
    "                else:\n",
    "                    emission_prob = 1.0\n",
    "                viterbi_matrix[state, base_idx] = max_transition_prob * emission_prob\n",
    "                viterbi_path[state, base_idx] = max_prev_state\n",
    "    # Trace back to find the most probable path\n",
    "    state = num_states - 1\n",
    "    base_idx = num_bases + 1\n",
    "    letter='-'\n",
    "    best_path = []\n",
    "    while base_idx>=1 and state>0:\n",
    "        best_path.append((state, profile_hmm[state]['type'], letter ))\n",
    "        state = viterbi_path[state, base_idx]\n",
    "        isSilent = not profile_hmm[state]['emission']\n",
    "        if isSilent:\n",
    "            letter = '-'\n",
    "        else:\n",
    "            base_idx -= 1\n",
    "            letter = sequence[base_idx-1]\n",
    "    best_path.append((state, profile_hmm[state]['type'], letter ))\n",
    "    best_path.reverse()\n",
    "    return best_path\n",
    "\n",
    "\n"
   ]
  },
  {
   "cell_type": "markdown",
   "metadata": {},
   "source": [
    "Lets first try with a \"ACGT\" sequence. "
   ]
  },
  {
   "cell_type": "code",
   "execution_count": 18,
   "metadata": {},
   "outputs": [
    {
     "name": "stdout",
     "output_type": "stream",
     "text": [
      "[[1.00000e+00 0.00000e+00 0.00000e+00 0.00000e+00 0.00000e+00 0.00000e+00]\n",
      " [0.00000e+00 1.00000e-02 3.00000e-04 9.00000e-06 1.80000e-07 1.80000e-08]\n",
      " [0.00000e+00 0.00000e+00 0.00000e+00 0.00000e+00 0.00000e+00 0.00000e+00]\n",
      " [0.00000e+00 5.40000e-01 9.00000e-04 5.40000e-05 8.10000e-07 1.62000e-07]\n",
      " [0.00000e+00 0.00000e+00 8.10000e-03 2.43000e-04 4.86000e-06 4.86000e-07]\n",
      " [0.00000e+00 2.70000e-02 4.50000e-05 2.70000e-06 4.05000e-08 8.10000e-09]\n",
      " [0.00000e+00 0.00000e+00 2.91600e-01 7.29000e-04 2.18700e-05 4.37400e-06]\n",
      " [0.00000e+00 0.00000e+00 0.00000e+00 4.37400e-03 8.74800e-05 8.74800e-06]\n",
      " [0.00000e+00 2.70000e-03 1.45800e-02 3.64500e-05 1.09350e-06 2.18700e-07]\n",
      " [0.00000e+00 0.00000e+00 4.86000e-03 1.31220e-01 7.87320e-04 7.87320e-05]\n",
      " [0.00000e+00 0.00000e+00 0.00000e+00 7.29000e-05 1.31220e-03 3.93660e-05]\n",
      " [0.00000e+00 2.70000e-04 1.45800e-03 6.56100e-03 3.93660e-05 3.93660e-06]\n",
      " [0.00000e+00 0.00000e+00 4.86000e-04 2.62440e-03 4.72392e-02 1.18098e-03]\n",
      " [0.00000e+00 0.00000e+00 0.00000e+00 0.00000e+00 0.00000e+00 0.00000e+00]\n",
      " [0.00000e+00 2.70000e-04 1.45800e-03 6.56100e-03 4.72392e-02 1.18098e-03]]\n",
      "Decoded path:\n",
      "State 0 of type S emitted -\n",
      "State 3 of type M emitted A\n",
      "State 6 of type M emitted C\n",
      "State 9 of type M emitted G\n",
      "State 12 of type M emitted T\n",
      "State 14 of type E emitted -\n"
     ]
    }
   ],
   "source": [
    "decoded_path = viterbi(profile_hmm, 'ACGT')\n",
    "print(\"Decoded path:\")\n",
    "for state, type, letter in decoded_path:\n",
    "    print(f\"State {state} of type {type} emitted {letter}\")\n"
   ]
  },
  {
   "cell_type": "markdown",
   "metadata": {},
   "source": [
    "We could try a sequence that i slonger than the model."
   ]
  },
  {
   "cell_type": "code",
   "execution_count": 19,
   "metadata": {},
   "outputs": [
    {
     "name": "stdout",
     "output_type": "stream",
     "text": [
      "[[1.000000e+00 0.000000e+00 0.000000e+00 0.000000e+00 0.000000e+00\n",
      "  0.000000e+00 0.000000e+00 0.000000e+00]\n",
      " [0.000000e+00 1.000000e-02 3.000000e-04 6.000000e-06 1.200000e-07\n",
      "  3.600000e-09 7.200000e-11 7.200000e-12]\n",
      " [0.000000e+00 0.000000e+00 0.000000e+00 0.000000e+00 0.000000e+00\n",
      "  0.000000e+00 0.000000e+00 0.000000e+00]\n",
      " [0.000000e+00 5.400000e-01 9.000000e-04 1.620000e-04 3.240000e-06\n",
      "  2.160000e-08 3.240000e-10 6.480000e-11]\n",
      " [0.000000e+00 0.000000e+00 8.100000e-03 1.620000e-04 3.240000e-06\n",
      "  9.720000e-08 1.944000e-09 1.944000e-10]\n",
      " [0.000000e+00 2.700000e-02 4.500000e-05 8.100000e-06 1.620000e-07\n",
      "  1.080000e-09 1.620000e-11 3.240000e-12]\n",
      " [0.000000e+00 0.000000e+00 2.916000e-01 1.458000e-03 2.916000e-05\n",
      "  2.916000e-07 8.748000e-09 1.749600e-09]\n",
      " [0.000000e+00 0.000000e+00 0.000000e+00 2.916000e-03 5.832000e-05\n",
      "  1.749600e-06 3.499200e-08 3.499200e-09]\n",
      " [0.000000e+00 2.700000e-03 1.458000e-02 7.290000e-05 1.458000e-06\n",
      "  1.458000e-08 4.374000e-10 8.748000e-11]\n",
      " [0.000000e+00 0.000000e+00 4.860000e-03 2.624400e-02 2.624400e-04\n",
      "  2.624400e-05 3.149280e-07 3.149280e-08]\n",
      " [0.000000e+00 0.000000e+00 0.000000e+00 4.860000e-05 2.624400e-04\n",
      "  3.936600e-06 2.624400e-07 1.574640e-08]\n",
      " [0.000000e+00 2.700000e-04 1.458000e-03 1.312200e-03 1.312200e-05\n",
      "  1.312200e-06 1.574640e-08 1.574640e-09]\n",
      " [0.000000e+00 0.000000e+00 4.860000e-04 2.624400e-03 4.723920e-03\n",
      "  4.723920e-05 9.447840e-06 2.834352e-07]\n",
      " [0.000000e+00 0.000000e+00 0.000000e+00 0.000000e+00 0.000000e+00\n",
      "  0.000000e+00 0.000000e+00 0.000000e+00]\n",
      " [0.000000e+00 2.700000e-04 1.458000e-03 2.624400e-03 4.723920e-03\n",
      "  4.723920e-05 9.447840e-06 2.834352e-07]]\n",
      "Decoded path:\n",
      "State 0 of type S emitted -\n",
      "State 3 of type M emitted A\n",
      "State 6 of type M emitted C\n",
      "State 7 of type I emitted A\n",
      "State 7 of type I emitted A\n",
      "State 9 of type M emitted G\n",
      "State 12 of type M emitted T\n",
      "State 14 of type E emitted -\n"
     ]
    }
   ],
   "source": [
    "decoded_path = viterbi(profile_hmm, 'ACAAGT')\n",
    "print(\"Decoded path:\")\n",
    "for state, type, letter in decoded_path:\n",
    "    print(f\"State {state} of type {type} emitted {letter}\")\n"
   ]
  },
  {
   "cell_type": "markdown",
   "metadata": {},
   "source": [
    "And a shorter sequence."
   ]
  },
  {
   "cell_type": "code",
   "execution_count": 20,
   "metadata": {},
   "outputs": [
    {
     "name": "stdout",
     "output_type": "stream",
     "text": [
      "[[1.0000e+00 0.0000e+00 0.0000e+00 0.0000e+00 0.0000e+00]\n",
      " [0.0000e+00 1.0000e-02 3.0000e-04 6.0000e-06 6.0000e-07]\n",
      " [0.0000e+00 0.0000e+00 0.0000e+00 0.0000e+00 0.0000e+00]\n",
      " [0.0000e+00 5.4000e-01 1.8000e-03 2.7000e-05 5.4000e-06]\n",
      " [0.0000e+00 0.0000e+00 8.1000e-03 1.6200e-04 1.6200e-05]\n",
      " [0.0000e+00 2.7000e-02 9.0000e-05 1.3500e-06 2.7000e-07]\n",
      " [0.0000e+00 0.0000e+00 4.8600e-02 7.2900e-04 1.4580e-04]\n",
      " [0.0000e+00 0.0000e+00 0.0000e+00 4.8600e-04 4.8600e-05]\n",
      " [0.0000e+00 2.7000e-03 2.4300e-03 3.6450e-05 7.2900e-06]\n",
      " [0.0000e+00 0.0000e+00 1.2150e-02 8.7480e-03 6.5610e-04]\n",
      " [0.0000e+00 0.0000e+00 0.0000e+00 1.2150e-04 4.3740e-04]\n",
      " [0.0000e+00 2.7000e-04 6.0750e-04 4.3740e-04 3.2805e-05]\n",
      " [0.0000e+00 0.0000e+00 4.8600e-04 4.3740e-03 7.8732e-03]\n",
      " [0.0000e+00 0.0000e+00 0.0000e+00 0.0000e+00 0.0000e+00]\n",
      " [0.0000e+00 2.7000e-04 6.0750e-04 4.3740e-03 7.8732e-03]]\n",
      "Decoded path:\n",
      "State 0 of type S emitted -\n",
      "State 3 of type M emitted A\n",
      "State 5 of type D emitted -\n",
      "State 9 of type M emitted G\n",
      "State 12 of type M emitted T\n",
      "State 14 of type E emitted -\n"
     ]
    }
   ],
   "source": [
    "decoded_path = viterbi(profile_hmm, 'AGT')\n",
    "print(\"Decoded path:\")\n",
    "for state, type, letter in decoded_path:\n",
    "    print(f\"State {state} of type {type} emitted {letter}\")"
   ]
  }
 ],
 "metadata": {
  "kernelspec": {
   "display_name": "jb",
   "language": "python",
   "name": "python3"
  },
  "language_info": {
   "codemirror_mode": {
    "name": "ipython",
    "version": 3
   },
   "file_extension": ".py",
   "mimetype": "text/x-python",
   "name": "python",
   "nbconvert_exporter": "python",
   "pygments_lexer": "ipython3",
   "version": "3.11.8"
  }
 },
 "nbformat": 4,
 "nbformat_minor": 2
}
